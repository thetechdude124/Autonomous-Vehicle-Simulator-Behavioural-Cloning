{
 "nbformat": 4,
 "nbformat_minor": 2,
 "metadata": {
  "language_info": {
   "name": "python",
   "codemirror_mode": {
    "name": "ipython",
    "version": 3
   },
   "version": "3.8.5-final"
  },
  "orig_nbformat": 2,
  "file_extension": ".py",
  "mimetype": "text/x-python",
  "name": "python",
  "npconvert_exporter": "python",
  "pygments_lexer": "ipython3",
  "version": 3,
  "kernelspec": {
   "name": "python38664bit886dd811c8d9467eb98b83f97da99e30",
   "display_name": "Python 3.8.6 64-bit",
   "language": "python"
  }
 },
 "cells": [
  {
   "cell_type": "code",
   "execution_count": 1,
   "metadata": {},
   "outputs": [],
   "source": [
    "#Importing necessary libraries and dependencies\n",
    "import torch\n",
    "import math\n",
    "import csv\n",
    "import numpy as np\n",
    "import matplotlib.pyplot as plt\n",
    "import matplotlib.image as mpimg\n",
    "import tensorflow as tf\n",
    "import keras\n",
    "import pandas as pd #for loading data\n",
    "import os\n",
    "import PIL\n",
    "import cv2\n",
    "from random import uniform\n",
    "\n",
    "from sklearn.model_selection import train_test_split\n",
    "from keras.models import Model, Sequential\n",
    "from keras.callbacks import ModelCheckpoint\n",
    "import keras.layers\n",
    "from keras.layers import MaxPool2D, AveragePooling2D, Flatten, Dense, Lambda, LayerNormalization, Dropout\n",
    "from keras.layers.convolutional import Conv2D\n",
    "from keras.optimizers import Adam, SGD\n",
    "from torchvision import datasets, transforms\n",
    "from PIL import Image"
   ]
  },
  {
   "cell_type": "code",
   "execution_count": 2,
   "metadata": {
    "tags": []
   },
   "outputs": [
    {
     "output_type": "stream",
     "name": "stdout",
     "text": [
      "(15492, 3)\n"
     ]
    }
   ],
   "source": [
    "#Import and Load data\n",
    "\n",
    "#Batch and Test size\n",
    "batch_size = 75\n",
    "test_size = 300\n",
    "height = 75\n",
    "width = 320\n",
    "\n",
    "#Read csv file 7971\n",
    "csv_directory = r'insert directory name here'\n",
    "\n",
    "opened_data = pd.read_csv(csv_directory)\n",
    "\n",
    "#Define X and Y data\n",
    "X_data = opened_data[['Center', 'Left', 'Right']].values\n",
    "Y_data = np.ndarray.round(opened_data['steering'].values, 3)\n",
    "\n",
    "#Define train/test split and batch size\n",
    "train_x, valid_x, train_y, valid_y = train_test_split(X_data, Y_data, test_size = test_size, random_state = 0)\n",
    "\n",
    "print(train_x.shape)"
   ]
  },
  {
   "cell_type": "code",
   "execution_count": 3,
   "metadata": {},
   "outputs": [],
   "source": [
    "#Batch generation function\n",
    "\n",
    "def read_image(directory, file):\n",
    "    return cv2.imread(os.path.join(directory, file.strip()))\n",
    "\n",
    "def crop(image):\n",
    "    return image [60:-25, :, :]\n",
    "\n",
    "def yuv(image):\n",
    "    return cv2.cvtColor(image, cv2.COLOR_RGB2YUV)\n",
    "\n",
    "def choose(directory, center, left, right, steering_angle):\n",
    "    choice = np.random.choice(3)\n",
    "    if choice == 0:\n",
    "        return read_image(directory, left), steering_angle + 0.2\n",
    "    elif choice == 1:\n",
    "        return read_image(directory, right), steering_angle -0.2\n",
    "    return read_image(directory, center), steering_angle\n",
    "\n",
    "def flip(image, steering_angle):\n",
    "    if np.random.rand() < 0.5:\n",
    "        image = cv2.flip(image, 1)\n",
    "        steering_angle = -steering_angle\n",
    "    return image, steering_angle\n",
    "\n",
    "def augment(directory, center, left, right, steering):\n",
    "    image, steering = choose(directory, center, left, right, steering)\n",
    "    image, steering = flip(image, steering)\n",
    "    return image, steering\n",
    "\n",
    "def resize (image):\n",
    "    return cv2.resize(image, (width, height), cv2.INTER_AREA)\n",
    "\n",
    "def generate_batches(directory, x_data, y_data, size):\n",
    "\n",
    "    #Set array sizes\n",
    "    image_arr = np.empty([size, 75, 320, 3])\n",
    "    steering_arr = np.empty(size)\n",
    "\n",
    "    while True:\n",
    "        i = 0\n",
    "        for position in np.random.permutation(x_data.shape[0]):\n",
    "            center, left, right = x_data[position]\n",
    "            steering = y_data[position]\n",
    "            #image, steering = augment(directory, center, left, right, steering)\n",
    "            image = read_image(directory, center)\n",
    "            #image = yuv(image)\n",
    "            image_arr[i] = crop(image)\n",
    "            steering_arr[i] = steering\n",
    "\n",
    "            i+= 1\n",
    "            if i == batch_size:\n",
    "                break\n",
    "        yield image_arr, steering_arr\n"
   ]
  },
  {
   "cell_type": "code",
   "execution_count": 4,
   "metadata": {},
   "outputs": [
    {
     "output_type": "stream",
     "name": "stdout",
     "text": [
      "(array([[[[ 83., 173., 204.],\n         [ 87., 177., 208.],\n         [ 93., 183., 214.],\n         ...,\n         [ 45., 112., 127.],\n         [ 43., 109., 127.],\n         [ 41., 107., 125.]],\n\n        [[ 91., 180., 214.],\n         [ 90., 179., 213.],\n         [ 89., 178., 212.],\n         ...,\n         [ 42., 104., 120.],\n         [ 38., 100., 118.],\n         [ 35.,  97., 115.]],\n\n        [[ 92., 179., 211.],\n         [ 89., 176., 208.],\n         [ 84., 171., 203.],\n         ...,\n         [ 46., 102., 121.],\n         [ 40.,  98., 117.],\n         [ 40.,  98., 117.]],\n\n        ...,\n\n        [[117., 126., 123.],\n         [103., 112., 109.],\n         [113., 122., 119.],\n         ...,\n         [ 95., 102.,  95.],\n         [117., 124., 117.],\n         [140., 147., 140.]],\n\n        [[115., 124., 121.],\n         [118., 127., 124.],\n         [134., 143., 140.],\n         ...,\n         [156., 163., 156.],\n         [141., 148., 141.],\n         [121., 128., 121.]],\n\n        [[111., 120., 117.],\n         [ 87.,  96.,  93.],\n         [ 75.,  84.,  81.],\n         ...,\n         [100., 108., 101.],\n         [110., 118., 111.],\n         [140., 148., 141.]]],\n\n\n       [[[101., 177., 195.],\n         [ 96., 172., 190.],\n         [ 94., 168., 186.],\n         ...,\n         [ 85.,  69.,  63.],\n         [ 86.,  70.,  64.],\n         [ 93.,  77.,  71.]],\n\n        [[ 88., 182., 211.],\n         [ 88., 182., 211.],\n         [ 91., 184., 210.],\n         ...,\n         [ 73.,  53.,  36.],\n         [ 76.,  56.,  39.],\n         [ 82.,  62.,  44.]],\n\n        [[ 83., 156., 200.],\n         [ 82., 155., 199.],\n         [ 86., 158., 200.],\n         ...,\n         [ 70.,  65.,  32.],\n         [ 75.,  70.,  37.],\n         [ 76.,  72.,  37.]],\n\n        ...,\n\n        [[107., 120., 118.],\n         [127., 140., 138.],\n         [120., 133., 131.],\n         ...,\n         [104., 117., 115.],\n         [110., 123., 121.],\n         [ 85.,  98.,  96.]],\n\n        [[108., 121., 119.],\n         [105., 118., 116.],\n         [119., 132., 130.],\n         ...,\n         [100., 113., 111.],\n         [ 71.,  84.,  82.],\n         [ 94., 107., 105.]],\n\n        [[ 88., 101.,  99.],\n         [106., 119., 117.],\n         [ 87., 100.,  98.],\n         ...,\n         [ 74.,  87.,  85.],\n         [ 89., 102., 100.],\n         [ 83.,  96.,  94.]]],\n\n\n       [[[  0.,  31.,  46.],\n         [  0.,   3.,  17.],\n         [121., 189., 202.],\n         ...,\n         [129., 154., 158.],\n         [119., 146., 150.],\n         [ 92., 119., 123.]],\n\n        [[199., 244., 255.],\n         [124., 173., 183.],\n         [109., 163., 174.],\n         ...,\n         [ 93., 118., 122.],\n         [ 96., 123., 127.],\n         [ 82., 109., 113.]],\n\n        [[253., 255., 255.],\n         [249., 254., 255.],\n         [240., 252., 254.],\n         ...,\n         [ 54.,  79.,  81.],\n         [ 70.,  98.,  99.],\n         [ 81., 111., 112.]],\n\n        ...,\n\n        [[ 95., 109., 105.],\n         [ 90., 104., 100.],\n         [ 81.,  95.,  91.],\n         ...,\n         [106., 114., 107.],\n         [ 94., 102.,  95.],\n         [119., 127., 120.]],\n\n        [[119., 133., 129.],\n         [110., 124., 120.],\n         [ 97., 111., 107.],\n         ...,\n         [102., 110., 103.],\n         [ 84.,  92.,  85.],\n         [123., 131., 124.]],\n\n        [[140., 154., 150.],\n         [109., 123., 119.],\n         [101., 115., 111.],\n         ...,\n         [ 97., 105.,  98.],\n         [ 89.,  97.,  90.],\n         [116., 124., 117.]]],\n\n\n       ...,\n\n\n       [[[ 56., 143., 169.],\n         [ 65., 152., 178.],\n         [ 80., 167., 193.],\n         ...,\n         [ 91., 191., 219.],\n         [ 61., 171., 197.],\n         [ 20., 133., 159.]],\n\n        [[ 66., 147., 174.],\n         [ 63., 144., 171.],\n         [ 64., 145., 172.],\n         ...,\n         [ 60., 163., 190.],\n         [ 70., 180., 206.],\n         [ 92., 205., 231.]],\n\n        [[ 92., 166., 192.],\n         [ 76., 150., 176.],\n         [ 79., 154., 180.],\n         ...,\n         [ 82., 187., 214.],\n         [ 98., 208., 236.],\n         [ 87., 202., 229.]],\n\n        ...,\n\n        [[ 96., 106., 100.],\n         [107., 117., 111.],\n         [145., 155., 149.],\n         ...,\n         [125., 148., 150.],\n         [ 98., 117., 120.],\n         [ 67.,  85.,  86.]],\n\n        [[130., 140., 134.],\n         [181., 191., 185.],\n         [162., 172., 166.],\n         ...,\n         [191., 231., 230.],\n         [167., 209., 208.],\n         [140., 182., 181.]],\n\n        [[178., 188., 182.],\n         [142., 152., 146.],\n         [143., 153., 147.],\n         ...,\n         [ 53., 106., 103.],\n         [102., 165., 163.],\n         [169., 236., 233.]]],\n\n\n       [[[179., 183., 172.],\n         [171., 175., 164.],\n         [167., 171., 160.],\n         ...,\n         [164., 219., 228.],\n         [149., 202., 212.],\n         [148., 201., 211.]],\n\n        [[ 58.,  55.,  41.],\n         [ 45.,  42.,  28.],\n         [ 39.,  36.,  22.],\n         ...,\n         [139., 194., 203.],\n         [121., 174., 184.],\n         [113., 166., 176.]],\n\n        [[197., 187., 169.],\n         [194., 184., 166.],\n         [190., 180., 162.],\n         ...,\n         [113., 168., 177.],\n         [ 98., 151., 161.],\n         [ 87., 140., 150.]],\n\n        ...,\n\n        [[158., 167., 164.],\n         [140., 149., 146.],\n         [107., 116., 113.],\n         ...,\n         [179., 245., 233.],\n         [124., 202., 185.],\n         [ 69., 151., 133.]],\n\n        [[ 80.,  89.,  86.],\n         [ 86.,  95.,  92.],\n         [ 99., 108., 105.],\n         ...,\n         [125., 187., 175.],\n         [145., 229., 211.],\n         [153., 248., 228.]],\n\n        [[ 91., 100.,  97.],\n         [ 89.,  98.,  95.],\n         [ 83.,  92.,  89.],\n         ...,\n         [ 83., 117., 110.],\n         [ 97., 142., 133.],\n         [104., 154., 144.]]],\n\n\n       [[[ 64.,  54.,  30.],\n         [ 72.,  62.,  38.],\n         [ 84.,  74.,  50.],\n         ...,\n         [ 42.,  74.,  85.],\n         [ 54.,  86.,  97.],\n         [ 67.,  99., 110.]],\n\n        [[185., 174., 144.],\n         [190., 179., 149.],\n         [198., 184., 156.],\n         ...,\n         [ 56.,  92., 102.],\n         [ 65., 101., 111.],\n         [ 75., 111., 121.]],\n\n        [[206., 189., 156.],\n         [206., 189., 156.],\n         [205., 187., 156.],\n         ...,\n         [ 79., 119., 131.],\n         [ 81., 123., 135.],\n         [ 84., 126., 138.]],\n\n        ...,\n\n        [[ 89.,  96.,  93.],\n         [107., 114., 111.],\n         [115., 122., 119.],\n         ...,\n         [138., 150., 144.],\n         [112., 124., 118.],\n         [100., 113., 105.]],\n\n        [[ 90.,  97.,  94.],\n         [ 96., 103., 100.],\n         [106., 113., 110.],\n         ...,\n         [121., 132., 129.],\n         [121., 128., 125.],\n         [132., 138., 133.]],\n\n        [[ 71.,  78.,  75.],\n         [ 76.,  83.,  80.],\n         [ 69.,  76.,  73.],\n         ...,\n         [106., 119., 117.],\n         [ 95., 101., 100.],\n         [101., 104., 102.]]]]), array([-0.038, -0.03 , -0.323, -0.023,  0.098,  0.   ,  0.023, -0.135,\n        0.023,  0.015,  0.135,  0.18 ,  0.03 , -0.038, -0.075,  0.068,\n        0.023,  0.068, -0.068,  0.15 , -0.128, -0.09 ,  0.06 , -0.045,\n       -0.015,  0.128,  0.195, -0.045, -0.105,  0.   ,  0.023,  0.068,\n       -0.008,  0.135, -0.211,  0.233,  0.045, -0.03 ,  0.083,  0.045,\n       -0.045, -0.038, -0.053,  0.068,  0.   , -0.023, -0.233, -0.165,\n       -0.023, -0.075,  0.083,  0.008, -0.038,  0.   ,  0.023,  0.015,\n       -0.023,  0.075, -0.09 ,  0.   , -0.12 ,  0.211,  0.09 , -0.03 ,\n       -0.105,  0.015,  0.083, -0.03 , -0.068,  0.023,  0.083, -0.06 ,\n       -0.068,  0.03 , -0.128]))\n"
     ]
    }
   ],
   "source": [
    "image_array = generate_batches(csv_directory, train_x, train_y, batch_size)\n",
    "print(next(iter(image_array)))"
   ]
  },
  {
   "cell_type": "code",
   "execution_count": 5,
   "metadata": {},
   "outputs": [],
   "source": [
    "#Set a checkpoint\n",
    "\n",
    "checkpoint = ModelCheckpoint('model={epoch:03d}.h5',\n",
    "             monitor = 'loss',\n",
    "             verbose = 0,\n",
    "             save_best_only = True,\n",
    "             mode = 'auto')\n"
   ]
  },
  {
   "cell_type": "code",
   "execution_count": 7,
   "metadata": {},
   "outputs": [
    {
     "output_type": "stream",
     "name": "stdout",
     "text": [
      "Model: \"sequential_3\"\n_________________________________________________________________\nLayer (type)                 Output Shape              Param #   \n=================================================================\nlambda_1 (Lambda)            (None, 75, 320, 3)        0         \n_________________________________________________________________\nconv2d_3 (Conv2D)            (None, 31, 153, 12)       8112      \n_________________________________________________________________\nconv2d_4 (Conv2D)            (None, 7, 68, 15)         58335     \n_________________________________________________________________\nflatten (Flatten)            (None, 7140)              0         \n_________________________________________________________________\ndense (Dense)                (None, 1)                 7141      \n=================================================================\nTotal params: 73,588\nTrainable params: 73,588\nNon-trainable params: 0\n_________________________________________________________________\n"
     ]
    }
   ],
   "source": [
    "#Define model architecture\n",
    "seq_model = Sequential()\n",
    "\n",
    "# seq_model.add(Conv2D(24, 5, strides = 2, activation = 'elu', input_shape = [75, 320, 3]))\n",
    "# seq_model.add(Lambda(lambda x: x/127.5-1.0))\n",
    "# #seq_model.add(Dropout(0.2))\n",
    "# #seq_model.add(Conv2D(64, 3, strides = 2, activation = 'elu'))\n",
    "# seq_model.add(Flatten())\n",
    "# seq_model.add(Dense(1, activation = 'selu'))\n",
    "# seq_model.summary()\n",
    "\n",
    "seq_model = Sequential()\n",
    "seq_model.add(Lambda(lambda x: x/127.5-1.0, input_shape = [75, 320, 3]))\n",
    "seq_model.add(Conv2D(12, 15, strides = 2, activation = 'elu'))\n",
    "seq_model.add(Conv2D(15, 18, strides = 2, activation = 'elu'))\n",
    "#seq_model.add(Conv2D(18, 24, strides = 2, activation = 'elu'))\n",
    "#seq_model.add(Dropout(0.2))\n",
    "seq_model.add(Flatten())\n",
    "#seq_model.add(Dense(11532, activation = 'elu'))\n",
    "#seq_model.add(Dense(7611, activation = 'elu'))\n",
    "seq_model.add(Dense(1, activation = 'elu'))\n",
    "seq_model.summary()"
   ]
  },
  {
   "cell_type": "code",
   "execution_count": 8,
   "metadata": {},
   "outputs": [],
   "source": [
    "#Set optimizer and criterion\n",
    "\n",
    "seq_model.compile(optimizer = SGD(lr = 0.0001), loss = tf.keras.losses.MeanSquaredError(), metrics = ['accuracy'] )"
   ]
  },
  {
   "cell_type": "code",
   "execution_count": null,
   "metadata": {},
   "outputs": [],
   "source": [
    "#Load an existing model to train\n",
    "seq_model.load_weights(r'insert directory name here')"
   ]
  },
  {
   "cell_type": "code",
   "execution_count": null,
   "metadata": {},
   "outputs": [],
   "source": [
    "#Train the network\n",
    "n_samples = 900\n",
    "n_epochs = 10\n",
    "validation_sample_length = 50\n",
    "\n",
    "history = seq_model.fit_generator(generate_batches(csv_directory, train_x, train_y, batch_size), \n",
    "                        steps_per_epoch = n_samples,\n",
    "                        epochs = n_epochs,\n",
    "                        max_queue_size=10,\n",
    "                        validation_data = generate_batches(csv_directory, valid_x, valid_y, batch_size),\n",
    "                        validation_steps = validation_sample_length,\n",
    "                        callbacks = [checkpoint],\n",
    "                        verbose = 1,\n",
    "                        shuffle = True)"
   ]
  },
  {
   "cell_type": "code",
   "execution_count": null,
   "metadata": {},
   "outputs": [],
   "source": [
    "seq_model.save('name of net.h5')"
   ]
  },
  {
   "cell_type": "code",
   "execution_count": null,
   "metadata": {},
   "outputs": [],
   "source": [
    "plt.plot(history.history['loss'])\n",
    "plt.plot(history.history['val_loss'])\n",
    "plt.title('Loss of Model')\n",
    "plt.ylabel('loss')\n",
    "plt.xlabel('epoch')\n",
    "plt.legend(['training loss', 'validation loss'], loc = 'upper left')\n",
    "plt.show()\n",
    "plt.savefig('graph3.1359.jpg')"
   ]
  },
  {
   "cell_type": "code",
   "execution_count": null,
   "metadata": {},
   "outputs": [],
   "source": []
  }
 ]
}